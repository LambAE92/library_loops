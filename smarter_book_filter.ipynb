{
 "cells": [
  {
   "cell_type": "markdown",
   "id": "0182b639",
   "metadata": {},
   "source": [
    "# Smarter Book Filter\n",
    "Let’s build on your previous challenge and make your book filter more flexible and user-friendly.\n",
    "\n",
    "In this version, the user can:\n",
    "\n",
    "- input a starting letter\n",
    "\n",
    "- only show books that are \"Available\"\n",
    "\n",
    "- see how many matching books were found in total"
   ]
  },
  {
   "cell_type": "code",
   "execution_count": 1,
   "id": "4c9d94ce",
   "metadata": {},
   "outputs": [],
   "source": [
    "# Define the dictionary with books and their availability\n",
    "library = {\n",
    "    \"The Hobbit\": \"Available\",\n",
    "    \"Slaughterhouse-Five\": \"Available\",\n",
    "    \"Moby Dick\": \"Available\",\n",
    "    \"The Catcher in the Rye\": \"Checked Out\",\n",
    "    \"Siddhartha\": \"Checked Out\",\n",
    "    \"Meditations\": \"Checked Out\",\n",
    "    \"Things Fall Apart\": \"Available\",\n",
    "    \"To Kill a Mockingbird\": \"Checked Out\",\n",
    "    \"Pride and Prejudice\": \"Available\",\n",
    "    \"Jane Eyre\": \"Checked Out\",\n",
    "    \"The Great Gatsby\": \"Available\",\n",
    "    \"War and Peace\": \"Checked Out\",\n",
    "    \"Crime and Punishment\": \"Available\",\n",
    "    \"Brave New World\": \"Available\",\n",
    "    \"A Tale of Two Cities\": \"Checked Out\",\n",
    "    \"Animal Farm\": \"Available\",\n",
    "    \"Dracula\": \"Checked Out\",\n",
    "    \"Frankenstein\": \"Available\",\n",
    "    \"The Road\": \"Available\",\n",
    "    \"The Alchemist\": \"Checked Out\"\n",
    "}"
   ]
  },
  {
   "cell_type": "markdown",
   "id": "32b33fe9",
   "metadata": {},
   "source": [
    "Seen below is our original filter"
   ]
  },
  {
   "cell_type": "code",
   "execution_count": 2,
   "id": "457e82ad",
   "metadata": {},
   "outputs": [
    {
     "name": "stdout",
     "output_type": "stream",
     "text": [
      "Books that start with 'T':\n",
      "The Hobbit\n",
      "The Catcher in the Rye\n",
      "Things Fall Apart\n",
      "To Kill a Mockingbird\n",
      "The Great Gatsby\n",
      "The Road\n",
      "The Alchemist\n"
     ]
    }
   ],
   "source": [
    "# Finding and printing books that start with 'T'\n",
    "print(\"Books that start with 'T':\")\n",
    "for book in library.keys():  \n",
    "    if book.startswith(\"T\"):  \n",
    "        print(book)"
   ]
  },
  {
   "cell_type": "markdown",
   "id": "2c82fdb5",
   "metadata": {},
   "source": [
    "### Follow along each step to complete the challenge! Put your code below the comments"
   ]
  },
  {
   "cell_type": "code",
   "execution_count": null,
   "id": "87e04b25",
   "metadata": {},
   "outputs": [],
   "source": [
    "# user input a variable that will be the letter to search for\n",
    "# hint: use .upper() and .strip() to account for improper case or whitespace\n",
    "letter = input(\"Enter a letter to search for books starting with that letter: \").upper().strip()"
   ]
  },
  {
   "cell_type": "code",
   "execution_count": null,
   "id": "d43dc487",
   "metadata": {},
   "outputs": [
    {
     "ename": "NameError",
     "evalue": "name 'match_count' is not defined",
     "output_type": "error",
     "traceback": [
      "\u001b[31m---------------------------------------------------------------------------\u001b[39m",
      "\u001b[31mNameError\u001b[39m                                 Traceback (most recent call last)",
      "\u001b[36mCell\u001b[39m\u001b[36m \u001b[39m\u001b[32mIn[5]\u001b[39m\u001b[32m, line 3\u001b[39m\n\u001b[32m      1\u001b[39m \u001b[38;5;66;03m# Track and print matching books:\u001b[39;00m\n\u001b[32m      2\u001b[39m \u001b[38;5;66;03m# First, set a counter variable called match_count\u001b[39;00m\n\u001b[32m----> \u001b[39m\u001b[32m3\u001b[39m \u001b[43mmatch_count\u001b[49m\n",
      "\u001b[31mNameError\u001b[39m: name 'match_count' is not defined"
     ]
    }
   ],
   "source": [
    "# Track and print matching books:\n",
    "# First, set a counter variable called match_count\n",
    "match_count"
   ]
  },
  {
   "cell_type": "code",
   "execution_count": null,
   "id": "2f25ac31",
   "metadata": {},
   "outputs": [
    {
     "ename": "NameError",
     "evalue": "name 'letter' is not defined",
     "output_type": "error",
     "traceback": [
      "\u001b[31m---------------------------------------------------------------------------\u001b[39m",
      "\u001b[31mNameError\u001b[39m                                 Traceback (most recent call last)",
      "\u001b[36mCell\u001b[39m\u001b[36m \u001b[39m\u001b[32mIn[4]\u001b[39m\u001b[32m, line 1\u001b[39m\n\u001b[32m----> \u001b[39m\u001b[32m1\u001b[39m \u001b[38;5;28mprint\u001b[39m(\u001b[33mf\u001b[39m\u001b[33m\"\u001b[39m\u001b[38;5;130;01m\\n\u001b[39;00m\u001b[33m Books starting with \u001b[39m\u001b[38;5;132;01m{\u001b[39;00m\u001b[43mletter\u001b[49m\u001b[38;5;132;01m}\u001b[39;00m\u001b[33m that are Available: \u001b[39m\u001b[33m\"\u001b[39m)\n",
      "\u001b[31mNameError\u001b[39m: name 'letter' is not defined"
     ]
    }
   ],
   "source": [
    "print(f\"\\n Books starting with {letter} that are Available: \")"
   ]
  },
  {
   "cell_type": "code",
   "execution_count": null,
   "id": "d72e5d27",
   "metadata": {},
   "outputs": [],
   "source": [
    "# write a for loop that prints all book titles starting with letter that are Available\n",
    "# hint: you are now accessing both the keys and their values, so you'll need to use library.items()\n",
    "# don't forget to increase your match_count at the end!\n",
    "\n",
    "\n",
    "\n",
    "\n"
   ]
  },
  {
   "cell_type": "code",
   "execution_count": null,
   "id": "6a4b6b15",
   "metadata": {},
   "outputs": [],
   "source": [
    "# Print total matches\n",
    "print(f\"\\nTotal matches: {match_count}\")"
   ]
  },
  {
   "cell_type": "markdown",
   "id": "45bf0af5",
   "metadata": {},
   "source": [
    "# Great job!\n",
    "\n",
    "You’ve built a flexible book filter using a dictionary, conditionals, string methods, and a for loop. Nice work applying what you've learned.\n",
    "\n",
    "This is not required, but if you’d like to go further and make this project more advanced, try one (or all) of these ideas:\n",
    "\n",
    "- Let the user input more than one starting letter (e.g., \"T,S,M\")\n",
    "- Allow the user to choose whether to filter by \"Available\", \"Checked Out\", or show all books\n",
    "- Let users add new books to the dictionary along with their availability status\n",
    "- Give users the ability to change the status of an existing book (for example, from \"Checked Out\" to \"Available\")\n",
    "\n",
    "Try adding one feature at a time to build your skills. \n"
   ]
  }
 ],
 "metadata": {
  "kernelspec": {
   "display_name": "Python 3",
   "language": "python",
   "name": "python3"
  },
  "language_info": {
   "codemirror_mode": {
    "name": "ipython",
    "version": 3
   },
   "file_extension": ".py",
   "mimetype": "text/x-python",
   "name": "python",
   "nbconvert_exporter": "python",
   "pygments_lexer": "ipython3",
   "version": "3.13.5"
  }
 },
 "nbformat": 4,
 "nbformat_minor": 5
}
